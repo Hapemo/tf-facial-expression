{
 "cells": [
  {
   "cell_type": "code",
   "execution_count": null,
   "id": "fbd3bff0",
   "metadata": {},
   "outputs": [],
   "source": [
    "# File: SVM-400-Confusion+modelsaving.ipynb\n",
    "# Authors: Han ChengWen, Richmond Choo, Jazz Teoh Yu Jue\n",
    "# Date: 04/04/2024\n",
    "# About: This file contains the logic for SVM classifier, where it contains the same implementation as SVMdefault.ipynb which includes model saving + confusion matrix code\n",
    "# Confusion matrix is a matrix that summarizes the performance of a machine learning model on a set of data. It displays the\n",
    "# number of accurate and inaccurate instances based on the model's predictions."
   ]
  },
  {
   "cell_type": "markdown",
   "id": "c0276c06-f50d-4eb0-bbca-9fc9ac880189",
   "metadata": {
    "tags": []
   },
   "source": [
    "## Import libraries and set up functions\n",
    "Starting directory is this \"..\\\\asset\" from this notebook code"
   ]
  },
  {
   "cell_type": "code",
   "execution_count": 1,
   "id": "3b1bba16-1e5e-45d3-9b8c-d6bb28bb1c91",
   "metadata": {
    "editable": true,
    "slideshow": {
     "slide_type": ""
    },
    "tags": []
   },
   "outputs": [
    {
     "name": "stdout",
     "output_type": "stream",
     "text": [
      "Completed\n"
     ]
    }
   ],
   "source": [
    "import os\n",
    "import numpy as np\n",
    "import tensorflow as tf\n",
    "from tensorflow import keras\n",
    "from tensorflow.keras import layers\n",
    "tf.config.run_functions_eagerly(True)\n",
    "tf.data.experimental.enable_debug_mode()\n",
    "import cv2\n",
    "import matplotlib.pyplot as plt\n",
    "import random\n",
    "# from keras.backend import clear_session\n",
    "# from keras.backend import get_session\n",
    "import time\n",
    "import math\n",
    "from datetime import timedelta\n",
    "# import mediapipe as mp\n",
    "import csv\n",
    "import pandas as pd\n",
    "from tensorflow.keras.callbacks import TensorBoard\n",
    "from tensorflow.keras.callbacks import EarlyStopping\n",
    "from tensorflow.keras.callbacks import ReduceLROnPlateau\n",
    "\n",
    "# for SVM\n",
    "import sklearn\n",
    "from sklearn import model_selection\n",
    "from sklearn.metrics import confusion_matrix, classification_report\n",
    "from sklearn.svm import SVC\n",
    "\n",
    "import matplotlib.pyplot as plt\n",
    "import numpy as np\n",
    "import PIL\n",
    "\n",
    "from tensorflow.keras.models import Sequential\n",
    "\n",
    "os.chdir(\"..\\\\asset\") # change working directory\n",
    "\n",
    "print(\"Completed\")"
   ]
  },
  {
   "cell_type": "code",
   "execution_count": 2,
   "id": "9ff676a1-bab6-436e-8d15-207ce47c3484",
   "metadata": {
    "tags": []
   },
   "outputs": [
    {
     "data": {
      "text/plain": [
       "'C:\\\\Users\\\\j.teoh\\\\Desktop\\\\tflite-facial-expression\\\\asset'"
      ]
     },
     "execution_count": 2,
     "metadata": {},
     "output_type": "execute_result"
    }
   ],
   "source": [
    "os.getcwd()"
   ]
  },
  {
   "cell_type": "code",
   "execution_count": 4,
   "id": "d1611703-5ebe-4c2e-8629-859cfd5fa19f",
   "metadata": {
    "tags": []
   },
   "outputs": [
    {
     "name": "stdout",
     "output_type": "stream",
     "text": [
      "Completed\n"
     ]
    }
   ],
   "source": [
    "#test\n",
    "\n",
    "emotionList = ('Neutral', 'Happy', 'Sad', 'Surprise', 'Fear', 'Disgust', 'Anger', 'Contempt')\n",
    "TRAINANNOTATIONPATH = \"train_set\\\\annotations\\\\\"\n",
    "TRAINIMAGEPATH = \"train_set\\\\images\\\\\"\n",
    "TRAINLANDMARKPATH = \"train_set\\\\landmarks\\\\\"\n",
    "TESTANNOTATIONPATH = \"val_set\\\\annotations\\\\\"\n",
    "TESTIMAGEPATH = \"val_set\\\\images\\\\\"\n",
    "TESTLANDMARKPATH = \"val_set\\\\landmarks\\\\\"\n",
    "\n",
    "def LoadAllImageNames(filePath, limit = 0, catLimit = []):\n",
    "  \"\"\"Load the images names and label in tuple format (label, image name)\n",
    "\n",
    "  Args:\n",
    "      filePath (str): directory of image folder\n",
    "      limit (int, optional): max number of image to load. Defaults to 0.\n",
    "      catLimit (list<int>, optional): array of image count limit for each class. Defaults to []*8.\n",
    "\n",
    "  Returns:\n",
    "      list<str>: shuffled list of image names\n",
    "  \"\"\"\n",
    "  limitCounter = [0,0,0,0,0,0,0,0]\n",
    "  dataSet = []\n",
    "  loadCounter = 0\n",
    "\n",
    "  annotationPath = TRAINANNOTATIONPATH if (\"train\" in filePath) else TESTANNOTATIONPATH\n",
    "  for file in os.scandir(filePath):\n",
    "    if (limit > 0 and loadCounter > limit):\n",
    "      break\n",
    "  \n",
    "    name = file.name[:-4] # file name w/o file extension\n",
    "    if \"_landmark\" in name:\n",
    "      name = name[:-9]\n",
    "    data = np.load(\"{}{}_exp.npy\".format(annotationPath, name)) # \n",
    "    label = int(data.item(0))\n",
    "\n",
    "    if len(catLimit) > 0 and limitCounter[label] >= catLimit[label]:\n",
    "        continue\n",
    "    limitCounter[label] += 1\n",
    "    loadCounter += 1\n",
    "\n",
    "    dataSet.append((label, file.name))\n",
    "    if (loadCounter%10000==0):\n",
    "      print(\"Files loaded:{}\".format(loadCounter))\n",
    "  \n",
    "  print(\"Total images loaded: \", loadCounter)\n",
    "  print(\"Images Loaded: \", limitCounter)\n",
    "  random.shuffle(dataSet)\n",
    "  return dataSet\n",
    "\n",
    "# Load the pixels of a picture to numpy.ndarray format. false for test set, true for training set\n",
    "# Return image in RGB format\n",
    "def LoadImage(imagePath, imageName, normalize = True):\n",
    "  \"\"\"Load image using numpy\n",
    "\n",
    "  Args:\n",
    "      imagePath (str): image path \n",
    "      imageName (str): image name\n",
    "      normalize (bool, optional): To normalize image or not. Defaults to True.\n",
    "\n",
    "  Returns:\n",
    "      numpy array: x,y,3 array\n",
    "  \"\"\"\n",
    "  # print(\"{}{}{}\".format(os.getcwd(), \"\\\\\"+imagePath, imageName))\n",
    "  image_array = cv2.imread(\"{}{}{}\".format(os.getcwd(), \"\\\\\"+imagePath, imageName))\n",
    "  image_array = cv2.cvtColor(image_array, cv2.COLOR_BGR2RGB)\n",
    "  if normalize:\n",
    "    image_array = image_array/255\n",
    "    \n",
    "  return image_array\n",
    "\n",
    "# Extract the daata from 0 to amount from list and return it\n",
    "def CropData(list, amount):\n",
    "  if (len(list) < amount):\n",
    "    amount = len(list)\n",
    "  croppedList = list[:amount]\n",
    "  del list[:amount]\n",
    "  return croppedList\n",
    "\n",
    "def LoadImages(imagePath, list):\n",
    "  label = []\n",
    "  data = []\n",
    "  for entries in list:\n",
    "    try:\n",
    "      image = LoadImage(imagePath, entries[1])\n",
    "      data.append(image) \n",
    "      label.append(entries[0]) \n",
    "    except: \n",
    "      print(\"Failed to load training image: \", entries[1])\n",
    "  npLabel = np.array(label) \n",
    "  npData = np.array(data) \n",
    "  return npLabel, npData \n",
    "\n",
    "# Load a list of face mesh in landmark_pb2.NormalizedLandmarkList format\n",
    "def LoadFaceMeshes(faceMesh, path, list, withFace = False):\n",
    "  face = []\n",
    "  label = []\n",
    "  data = []\n",
    "  for entry in list:\n",
    "    # try:\n",
    "    if withFace:\n",
    "      face.append(LoadImage(path, entry[1], normalize = False)) # Load image\n",
    "      data.append(faceMesh.process(face[-1])) # process it into face mesh and append into data\n",
    "    else:\n",
    "      data.append(faceMesh.process(LoadImage(path, entry[1], normalize = False))) # Load image, process it into face mesh, and append into data\n",
    "    label.append(entry[0])\n",
    "    # except:\n",
    "      # print(\"Failed to load training image: \", entry[1])\n",
    "\n",
    "  if withFace:\n",
    "    return np.array(label), np.array(data), np.array(face)\n",
    "  else:\n",
    "    return np.array(label), np.array(data)\n",
    "\n",
    "# Load face mesh data in numpy array of \n",
    "def LoadFaceMeshVertices(faceMesh, path, list):\n",
    "  label = []\n",
    "  data = []\n",
    "  for entry in list:\n",
    "    # load image, process it into normalizedlandmarklist format, obtain face data from the list, convert it into vertices\n",
    "    image = LoadImage(path, entry[1], normalize = False)\n",
    "    multiFaceLandmarks = faceMesh.process(image).multi_face_landmarks\n",
    "    if (multiFaceLandmarks == None):\n",
    "      print(\"{} multi-face landmarks is none\".format(entry[1]))\n",
    "      continue\n",
    "    vertices = MultiLandmarkToVertices(multiFaceLandmarks[0])\n",
    "    data.append(vertices)\n",
    "    label.append(entry[0])\n",
    "    # except:\n",
    "      # print(\"Failed to load training image: \", entry[1])\n",
    "\n",
    "def LoadVertices(path, list): # takes in list of (label, image name)\n",
    "  label = [] # list of image labels (0,1,2,...,7)\n",
    "  data = [] # list of image landmarks, where each image landmark is a list of 478 vector3 (x,y,z)\n",
    "  for entry in list: # loop through each (label, image name)\n",
    "    vertices = np.load(\"{}{}{}.npy\".format(os.getcwd(), \"\\\\\"+path, entry[1][:-4])) # load in a image landmarks\n",
    "    data.append(vertices) \n",
    "    label.append(entry[0])\n",
    "  \n",
    "  return np.array(label), np.array(data)\n",
    "  \n",
    "def MultiLandmarkToVertices(multiLandmark):\n",
    "  verticesList = []\n",
    "  for idx, landmark in enumerate(multiLandmark.landmark):\n",
    "    verticesList.append([landmark.x, landmark.y, landmark.z])\n",
    "\n",
    "  return verticesList\n",
    "\n",
    "\n",
    "def InitializeModel():\n",
    "  pretrained_model = tf.keras.applications.MobileNetV3Large(input_shape=(224,224,3)) # Initializing model with mobile net V3 pretrained model\n",
    "\n",
    "  # Initializing the input and output from the model, removing last layer\n",
    "  base_input = pretrained_model.layers[0].input\n",
    "  base_output = pretrained_model.layers[-2].output\n",
    "\n",
    "  # Adding 3 more layers to output side\n",
    "  final_output = layers.Dense(128)(base_output) # Adding new layers, to the output side\n",
    "  final_output = layers.Activation('relu')(final_output) # activating layer\n",
    "  final_output = layers.Dense(64)(final_output)\n",
    "  final_output = layers.Activation('relu')(final_output) # activating layer\n",
    "  final_output = layers.Dense(8, activation = 'softmax')(final_output) # 8 cuz there are 8 image classifications\n",
    "\n",
    "  new_model = keras.Model(inputs = base_input, outputs = final_output)\n",
    "  # new_model.summary()\n",
    "  return new_model\n",
    "\n",
    "def ConvertToGray(image):\n",
    "  image = cv2.cvtColor(image, cv2.COLOR_RGB2GRAY)\n",
    "  image = cv2.cvtColor(image, cv2.COLOR_GRAY2RGB)\n",
    "  return image\n",
    "\n",
    "def ScaleImage(image, width):\n",
    "  ratio = image.shape[1]/width\n",
    "  image = cv2.resize(image, (width, int(image.shape[0]/ratio)))\n",
    "  return image\n",
    "\n",
    "def DetectFace(image):\n",
    "  face_roi = np.ndarray(1)\n",
    "  faceCascade = cv2.CascadeClassifier(cv2.data.haarcascades + \"haarcascade_frontalface_default.xml\")\n",
    "  grayImage = cv2.cvtColor(image, cv2.COLOR_RGB2GRAY)\n",
    "  faces = faceCascade.detectMultiScale(grayImage, 1.3, 5)\n",
    "  for x,y,w,h in faces:\n",
    "    roi_gray = grayImage[y:y+h, x:x+w]\n",
    "    roi_color = image[y:y+h, x:x+w]\n",
    "    cv2.rectangle(image, (x,y), (x+w, y+h), (255,0,0), 2)\n",
    "    facess = faceCascade.detectMultiScale(roi_gray)\n",
    "    if (len(facess) == 0):\n",
    "      print(\"Face not detected\")\n",
    "    else:\n",
    "      for (ex,ey,ew,eh) in facess:\n",
    "        face_roi = roi_color[ey:ey+eh, ex:ex+ew]\n",
    "  return face_roi\n",
    "\n",
    "def ConvertToInput(image):\n",
    "  input = ScaleImage(image, 224)\n",
    "  input = np.expand_dims(input, axis = 0) ## to add fourth dimension to fit model input\n",
    "  input = input/255\n",
    "  return input\n",
    "\n",
    "def GetResult(model, input):\n",
    "  Predictions = model.predict(input)\n",
    "  print(Predictions)\n",
    "  result = np.argmax(Predictions)\n",
    "  return emotionList[result]\n",
    "\n",
    "def printDataSetLabels(dataSet):\n",
    "    counterList = list(range(8))\n",
    "    for label, name in dataSet:\n",
    "        counterList[label] += 1\n",
    "    print(counterList)\n",
    "    \n",
    "# Reset Keras Session\n",
    "def reset_keras():\n",
    "    sess = tf.compat.v1.keras.backend.clear_session()\n",
    "    clear_session()\n",
    "    sess.close()\n",
    "    sess = tf.compat.v1.keras.backend.get_session()\n",
    "\n",
    "    # try:\n",
    "    #     del classifier # this is from global space - change this as you need\n",
    "    # except:\n",
    "    #     pass\n",
    "\n",
    "    # use the same config as you used to create the session\n",
    "    tf.compat.v1.GPUOptions(per_process_gpu_memory_fraction=0.9, visible_device_list=\"0\")\n",
    "\n",
    "# class TimeHistory(keras.callbacks.Callback):\n",
    "#   def on_train_begin(self, logs={}):\n",
    "#     self.times = []\n",
    "\n",
    "#   def on_epoch_begin(self, batch, logs={}):\n",
    "#     self.epoch_time_start = time.time()\n",
    "\n",
    "#   def on_epoch_end(self, batch, logs={}):\n",
    "#     self.times.append(time.time() - self.epoch_time_start)\n",
    "\n",
    "#   def AverageTime(self):\n",
    "#     sum = 0\n",
    "#     for time in self.times:\n",
    "#       sum += time\n",
    "#     return sum/len(self.times)\n",
    "\n",
    "def TestModel(model, testSetData):\n",
    "  # test model\n",
    "  lostSum = 0\n",
    "  accuracySum = 0\n",
    "  count = 0\n",
    "  while(len(testSetData) != 0):\n",
    "    # training data\n",
    "    try:\n",
    "      croppedList = CropData(testSetData, 100)\n",
    "      label, data = LoadImages(TESTIMAGEPATH, croppedList)\n",
    "      result = model.evaluate(data, label, batch_size = 1)\n",
    "      lostSum += result[0]\n",
    "      accuracySum += result[1]\n",
    "    except:\n",
    "      print(\"Failed to train data\")\n",
    "\n",
    "    count += 1\n",
    "    reset_keras()\n",
    "  \n",
    "  return lostSum/count, accuracySum/count\n",
    "\n",
    "def TestModelWithVertices(model, dataSet, tensorboard):\n",
    "  # test model\n",
    "  lostSum = 0\n",
    "  accuracySum = 0\n",
    "  count = 0\n",
    "  while(len(dataSet) != 0):\n",
    "    # training data\n",
    "    try:\n",
    "      croppedList = CropData(dataSet, 100)\n",
    "      label, data = LoadVertices(TESTLANDMARKPATH, croppedList)\n",
    "      result = model.evaluate(data, label, batch_size = 1, callbacks =[tensorboard])\n",
    "      lostSum += result[0]\n",
    "      accuracySum += result[1]\n",
    "    except:\n",
    "      print(\"Failed to train data\")\n",
    "\n",
    "    count += 1\n",
    "    reset_keras()\n",
    "  \n",
    "  return lostSum/count, accuracySum/count\n",
    "\n",
    "def DrawFaceLandmark(label, image, landmarks):\n",
    "  mp_drawing = mp.solutions.drawing_utils\n",
    "  mp_drawing_styles = mp.solutions.drawing_styles\n",
    "  mp_face_mesh = mp.solutions.face_mesh\n",
    "  print(f'Face landmarks of {label}:')\n",
    "  if not landmarks.multi_face_landmarks:\n",
    "    print(\"unagle to locate face landmark for {}\".format(label))\n",
    "  annotated_image = image.copy()\n",
    "  for face_landmarks in landmarks.multi_face_landmarks:\n",
    "    mp_drawing.draw_landmarks(\n",
    "        image=annotated_image,\n",
    "        landmark_list=face_landmarks,\n",
    "        connections=mp_face_mesh.FACEMESH_TESSELATION,\n",
    "        landmark_drawing_spec=None,\n",
    "        connection_drawing_spec=mp_drawing_styles\n",
    "        .get_default_face_mesh_tesselation_style())\n",
    "    mp_drawing.draw_landmarks(\n",
    "        image=annotated_image,\n",
    "        landmark_list=face_landmarks,\n",
    "        connections=mp_face_mesh.FACEMESH_CONTOURS,\n",
    "        landmark_drawing_spec=None,\n",
    "        connection_drawing_spec=mp_drawing_styles\n",
    "        .get_default_face_mesh_contours_style())\n",
    "    mp_drawing.draw_landmarks(\n",
    "        image=annotated_image,\n",
    "        landmark_list=face_landmarks,\n",
    "        connections=mp_face_mesh.FACEMESH_IRISES,\n",
    "        landmark_drawing_spec=None,\n",
    "        connection_drawing_spec=mp_drawing_styles\n",
    "        .get_default_face_mesh_iris_connections_style())\n",
    "  plt.imshow(annotated_image)\n",
    "\n",
    "\n",
    "\n",
    "\n",
    "\n",
    "\n",
    "\n",
    "print(\"Completed\")"
   ]
  },
  {
   "cell_type": "markdown",
   "id": "c38a2898-2d42-418a-9cef-a6cfb6324bfc",
   "metadata": {},
   "source": [
    "## Setup directory and import image file names"
   ]
  },
  {
   "cell_type": "code",
   "execution_count": 5,
   "id": "84b1a99c-a616-45b2-b662-fafad60524af",
   "metadata": {
    "scrolled": true,
    "tags": []
   },
   "outputs": [
    {
     "name": "stdout",
     "output_type": "stream",
     "text": [
      "Total images loaded:  3987\n",
      "Images Loaded:  [499, 500, 498, 498, 498, 500, 499, 495]\n",
      "Completed\n"
     ]
    }
   ],
   "source": [
    "# Get currect directory (os.getcwd() -> C:\\Users\\jazzt\\src)\n",
    "\n",
    "#-----------------------Start of code---------------------------\n",
    "# initialise image names and label\n",
    "mainTrainSet = LoadAllImageNames(TRAINLANDMARKPATH, catLimit=[4000]*8)\n",
    "print(\"Completed\")\n",
    "mainTestSet = LoadAllImageNames(TESTLANDMARKPATH, catLimit=[500]*8)\n",
    "print(\"Completed\")"
   ]
  },
  {
   "cell_type": "code",
   "execution_count": 8,
   "id": "8823a64a-7b04-4170-a233-886adc9934ec",
   "metadata": {
    "scrolled": true,
    "tags": []
   },
   "outputs": [
    {
     "name": "stdout",
     "output_type": "stream",
     "text": [
      "Completed\n"
     ]
    }
   ],
   "source": [
    "from sklearn import svm\n",
    "from sklearn.model_selection import GridSearchCV, RandomizedSearchCV\n",
    "import numpy as np\n",
    "\n",
    "# Assuming LoadVertices is a custom function you've defined elsewhere\n",
    "trainLabel, trainData = LoadVertices(TRAINLANDMARKPATH, mainTrainSet)\n",
    "testLabel, testData = LoadVertices(TESTLANDMARKPATH, mainTestSet)\n",
    "\n",
    "# Reshape the data as before\n",
    "trainData = np.concatenate(trainData).reshape(len(trainData), -1)\n",
    "testData = np.concatenate(testData).reshape(len(testData), -1)\n",
    "\n",
    "# Simplified and more focused parameter grid\n",
    "param_grid = {\n",
    "    'C': [1, 10, 100],  # Fewer, more targeted options based on prior knowledge\n",
    "    'gamma': [0.001, 0.01, 0.1],  # Adjusted based on typical values that often work well\n",
    "    'kernel': ['rbf']  # Focusing on RBF kernel for efficiency\n",
    "}\n",
    "\n",
    "# Initialize SVC with probability=True for consistency\n",
    "svc = svm.SVC(probability=True)\n",
    "\n",
    "# Using GridSearchCV with n_jobs=-1 to utilize all CPU cores\n",
    "model = GridSearchCV(svc, param_grid, n_jobs=-1)\n",
    "\n",
    "# Alternatively, use RandomizedSearchCV to search a subset of the parameter space more efficiently\n",
    "# model = RandomizedSearchCV(svc, param_grid, n_jobs=-1, n_iter=10)  # n_iter controls the number of parameter settings that are sampled\n",
    "\n",
    "model.fit(trainData, trainLabel)\n",
    "\n",
    "\n",
    "\n",
    "\n",
    "print(\"Completed\")"
   ]
  },
  {
   "cell_type": "code",
   "execution_count": 9,
   "id": "fe4597a8-28eb-4bb3-9357-bb8056f304ba",
   "metadata": {
    "tags": []
   },
   "outputs": [
    {
     "data": {
      "text/plain": [
       "['svm_model.pkl']"
      ]
     },
     "execution_count": 9,
     "metadata": {},
     "output_type": "execute_result"
    }
   ],
   "source": [
    "#Saving the model into pkl file for future usage\n",
    "\n",
    "import joblib\n",
    "joblib.dump(model, 'svm_model.pkl')\n"
   ]
  },
  {
   "cell_type": "code",
   "execution_count": 10,
   "id": "f2626150-60cd-4a68-be9f-5fe01c77e357",
   "metadata": {
    "tags": []
   },
   "outputs": [
    {
     "name": "stdout",
     "output_type": "stream",
     "text": [
      "Accuracy: 0.38826185101580135\n"
     ]
    }
   ],
   "source": [
    "#make prediction using model trained with data given (direct from model trained)\n",
    "\n",
    "from sklearn.metrics import accuracy_score, classification_report, confusion_matrix\n",
    "\n",
    "test_predictions = model.predict(testData)\n",
    "\n",
    "accuracy = accuracy_score(testLabel, test_predictions)\n",
    "print(\"Accuracy:\", accuracy)"
   ]
  },
  {
   "cell_type": "code",
   "execution_count": 8,
   "id": "1f704d2f-41cb-496f-92ef-2aed84f0d072",
   "metadata": {
    "tags": []
   },
   "outputs": [
    {
     "name": "stdout",
     "output_type": "stream",
     "text": [
      "Accuracy: 0.38826185101580135\n"
     ]
    }
   ],
   "source": [
    "#using saved pkl model to do preduction (from saved pkl file)\n",
    "\n",
    "from sklearn.metrics import accuracy_score, classification_report, confusion_matrix\n",
    "import joblib\n",
    "testLabel, testData = LoadVertices(TESTLANDMARKPATH, mainTestSet)\n",
    "testData = np.concatenate(testData).reshape(len(testData), -1)\n",
    "model = joblib.load('svm_model.pkl')\n",
    "test_predictions = model.predict(testData)\n",
    "\n",
    "accuracy = accuracy_score(testLabel, test_predictions)\n",
    "print(\"Accuracy:\", accuracy)"
   ]
  },
  {
   "cell_type": "code",
   "execution_count": 9,
   "id": "46813a89",
   "metadata": {
    "tags": []
   },
   "outputs": [
    {
     "data": {
      "image/png": "[encoded data removed]",
      "text/plain": [
       "<Figure size 800x600 with 2 Axes>"
      ]
     },
     "metadata": {},
     "output_type": "display_data"
    }
   ],
   "source": [
    "# plotting cunfusion matrix code\n",
    "\n",
    "import seaborn as sns \n",
    "\n",
    "# print confusion matrix\n",
    "cm = confusion_matrix(testLabel, test_predictions)\n",
    "\n",
    "\n",
    "plt.figure(figsize = (8, 6))\n",
    "sns.heatmap(cm, annot = True, cmap = 'Blues', fmt = 'g', xticklabels = emotionList, yticklabels = emotionList)\n",
    "plt.xlabel('Predicted')\n",
    "plt.ylabel('True')\n",
    "plt.title('Neural Network Confusion Matrix')\n",
    "plt.show()\n"
   ]
  },
  {
   "cell_type": "code",
   "execution_count": 19,
   "id": "2337808a-dae2-487d-8508-c5d7fe392656",
   "metadata": {
    "tags": []
   },
   "outputs": [
    {
     "data": {
      "text/plain": [
       "array([[161,  26,  60,  42,  36,  32,  73,  69],\n",
       "       [ 36, 281,  21,  30,  18,  23,  25,  66],\n",
       "       [ 99,  29, 169,  34,  35,  37,  53,  42],\n",
       "       [ 51,  47,  33, 204,  73,  20,  38,  32],\n",
       "       [ 56,  22,  44,  81, 205,  42,  32,  16],\n",
       "       [ 60,  29,  55,  46,  40, 170,  68,  32],\n",
       "       [ 77,  23,  52,  36,  34,  72, 165,  40],\n",
       "       [ 76,  63,  40,  23,  25,  32,  43, 193]], dtype=int64)"
      ]
     },
     "execution_count": 19,
     "metadata": {},
     "output_type": "execute_result"
    }
   ],
   "source": [
    "cm"
   ]
  }
 ],
 "metadata": {
  "kernelspec": {
   "display_name": "Python 3 (ipykernel)",
   "language": "python",
   "name": "python3"
  },
  "language_info": {
   "codemirror_mode": {
    "name": "ipython",
    "version": 3
   },
   "file_extension": ".py",
   "mimetype": "text/x-python",
   "name": "python",
   "nbconvert_exporter": "python",
   "pygments_lexer": "ipython3",
   "version": "3.10.13"
  },
  "widgets": {
   "application/vnd.jupyter.widget-state+json": {
    "state": {},
    "version_major": 2,
    "version_minor": 0
   }
  }
 },
 "nbformat": 4,
 "nbformat_minor": 5
}
